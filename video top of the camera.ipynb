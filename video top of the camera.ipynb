{
 "cells": [
  {
   "cell_type": "code",
   "execution_count": null,
   "id": "210b1ff4",
   "metadata": {},
   "outputs": [],
   "source": [
    "import cv2\n",
    "cam = cv2.VideoCapture(0)\n",
    "while True:\n",
    "    status , photo = cam.read()\n",
    "    photo[0:200,0:150] = photo[100:300,150:300]\n",
    "    cv2.imshow(\"myphoto\",photo)\n",
    "    if cv2.waitKey(10) == 13:\n",
    "        break\n",
    "cv2.destroyAllWindows()\n",
    "cam.release()"
   ]
  },
  {
   "cell_type": "code",
   "execution_count": null,
   "id": "fa4c4712",
   "metadata": {},
   "outputs": [],
   "source": []
  }
 ],
 "metadata": {
  "kernelspec": {
   "display_name": "Python 3 (ipykernel)",
   "language": "python",
   "name": "python3"
  },
  "language_info": {
   "codemirror_mode": {
    "name": "ipython",
    "version": 3
   },
   "file_extension": ".py",
   "mimetype": "text/x-python",
   "name": "python",
   "nbconvert_exporter": "python",
   "pygments_lexer": "ipython3",
   "version": "3.11.3"
  }
 },
 "nbformat": 4,
 "nbformat_minor": 5
}
